{
 "cells": [
  {
   "cell_type": "code",
   "execution_count": 31,
   "metadata": {},
   "outputs": [],
   "source": [
    "import numpy as np\n",
    "import os\n",
    "import matplotlib.pyplot as plt\n",
    "%matplotlib inline\n",
    "\n",
    "from astropy.table import Table,Column\n",
    "from astropy import units as u\n",
    "import astropy.constants\n",
    "from astropy.io import ascii,fits\n",
    "\n",
    "import glob\n",
    "#import deimos_tools\n",
    "import ppxf.ppxf_util as ppxf\n",
    "import scipy.ndimage as scipynd\n",
    "\n",
    "\n",
    "DEIMOS_DROPBOX = '/Users/mgeha/Dropbox/DEIMOS/'\n"
   ]
  },
  {
   "cell_type": "markdown",
   "metadata": {},
   "source": [
    "# WGET FILES FROM PHOENIX WEBSITE"
   ]
  },
  {
   "cell_type": "code",
   "execution_count": null,
   "metadata": {},
   "outputs": [],
   "source": [
    "# WGET TEMPLATE FROM WEBSITE\n",
    "root = 'ftp://phoenix.astro.physik.uni-goettingen.de/HiResFITS/PHOENIX-ACES-AGSS-COND-2011/'\n",
    "z = 'Z-0.0/'\n",
    "file = 'lte02300-0.00-0.0.PHOENIX-ACES-AGSS-COND-2011-HiRes.fits'"
   ]
  },
  {
   "cell_type": "code",
   "execution_count": null,
   "metadata": {},
   "outputs": [],
   "source": [
    "# GRID FOR SN >30\n",
    "#zz    = ['+0.5','-0.0','-0.5','-1.0','-2.0','-3.0','-4.0']\n",
    "#logg = ['0.00','2.00','4.00','6.00']\n",
    "#teff = [2500,3000,3500,4000,4500,5000,5500,6000,7000]    \n",
    "\n",
    "# GRID FOR 5 < SN < 30 \n",
    "zz    = ['-0.0','-1.0','-2.0','-3.0','-4.0']\n",
    "logg = ['0.00','2.00','4.00','6.00']\n",
    "teff = [3000,4000,5000,6000,7000]    \n",
    "   \n",
    "n=0\n",
    "for z in zz:\n",
    "    for lg in logg:\n",
    "        for t in teff:\n",
    "            \n",
    "            str1 = 'lte0{}-{}{}.PHOENIX-ACES-AGSS-COND-2011-HiRes.fits'.format(t,lg,z)\n",
    "            str = 'wget '+root+'Z'+z+'/'+str1\n",
    "            if (not os.path.isfile(str1)):\n",
    "                os.system(str)\n",
    "            #    print(str1)\n",
    "            n=n+1\n",
    "print(n)"
   ]
  },
  {
   "cell_type": "code",
   "execution_count": null,
   "metadata": {},
   "outputs": [],
   "source": []
  },
  {
   "cell_type": "markdown",
   "metadata": {},
   "source": [
    "# SMOOTH AND TRIM FOR DEIMOS DMOST "
   ]
  },
  {
   "cell_type": "code",
   "execution_count": 33,
   "metadata": {},
   "outputs": [],
   "source": [
    "# READ UNIVERSAL WAVELENGTH FILE\n",
    "fwave = DEIMOS_DROPBOX + '/templates/pheonix/WAVE_PHOENIX-ACES-AGSS-COND-2011.fits' \n",
    "fhdu  = fits.open(fwave)\n",
    "vwave = fhdu[0].data\n",
    "\n",
    "# CONVERT TO AIR WAVELENGTHS\n",
    "s2   = (1.e4 / vwave)**2\n",
    "wave = vwave/(1. + 0.0000834254 + (0.02406147 / (130. - s2)) + (0.00015998 / (38.9 - s2)))\n",
    "\n",
    "# TRIM TO DEIMOS WAVELENGTH RANGE\n",
    "mdeimos = (wave >= 6000) & (wave <= 9500)\n",
    "wave_deimos = wave[mdeimos]\n"
   ]
  },
  {
   "cell_type": "code",
   "execution_count": 32,
   "metadata": {},
   "outputs": [
    {
     "name": "stdout",
     "output_type": "stream",
     "text": [
      "98\n"
     ]
    }
   ],
   "source": [
    "templ_dir = DEIMOS_DROPBOX + '/templates/pheonix/'\n",
    "files = glob.glob(templ_dir+'lte*.fits')\n",
    "print(np.size(files))"
   ]
  },
  {
   "cell_type": "code",
   "execution_count": 35,
   "metadata": {},
   "outputs": [
    {
     "name": "stdout",
     "output_type": "stream",
     "text": [
      "0.0 0.02 0.02000\n",
      "-4.0 2.0000000000000003e-06 0.00000\n",
      "-3.0 2e-05 0.00002\n",
      "-3.0 2e-05 0.00002\n",
      "-2.0 0.0002 0.00020\n",
      "-1.0 0.002 0.00200\n",
      "-1.0 0.002 0.00200\n",
      "-1.0 0.002 0.00200\n",
      "-2.0 0.0002 0.00020\n",
      "-4.0 2.0000000000000003e-06 0.00000\n",
      "-3.0 2e-05 0.00002\n",
      "-2.0 0.0002 0.00020\n",
      "[0.38757478]\n",
      "0.0 0.02 0.02000\n",
      "-2.0 0.0002 0.00020\n",
      "-1.0 0.002 0.00200\n",
      "0.0 0.02 0.02000\n",
      "0.0 0.02 0.02000\n",
      "-3.0 2e-05 0.00002\n",
      "-4.0 2.0000000000000003e-06 0.00000\n",
      "-3.0 2e-05 0.00002\n",
      "-4.0 2.0000000000000003e-06 0.00000\n",
      "0.0 0.02 0.02000\n",
      "-4.0 2.0000000000000003e-06 0.00000\n",
      "[0.38757478]\n",
      "-4.0 2.0000000000000003e-06 0.00000\n",
      "-1.0 0.002 0.00200\n",
      "-2.0 0.0002 0.00020\n",
      "-2.0 0.0002 0.00020\n",
      "-1.0 0.002 0.00200\n",
      "-3.0 2e-05 0.00002\n",
      "-4.0 2.0000000000000003e-06 0.00000\n",
      "0.0 0.02 0.02000\n",
      "-3.0 2e-05 0.00002\n",
      "0.0 0.02 0.02000\n",
      "-3.0 2e-05 0.00002\n",
      "-4.0 2.0000000000000003e-06 0.00000\n",
      "-2.0 0.0002 0.00020\n",
      "-1.0 0.002 0.00200\n",
      "0.0 0.02 0.02000\n",
      "-4.0 2.0000000000000003e-06 0.00000\n",
      "-3.0 2e-05 0.00002\n",
      "0.0 0.02 0.02000\n",
      "-2.0 0.0002 0.00020\n",
      "-1.0 0.002 0.00200\n",
      "-2.0 0.0002 0.00020\n",
      "-2.0 0.0002 0.00020\n",
      "-1.0 0.002 0.00200\n",
      "-4.0 2.0000000000000003e-06 0.00000\n",
      "-3.0 2e-05 0.00002\n",
      "-4.0 2.0000000000000003e-06 0.00000\n",
      "[0.38757478]\n",
      "-4.0 2.0000000000000003e-06 0.00000\n",
      "-1.0 0.002 0.00200\n",
      "-2.0 0.0002 0.00020\n",
      "-3.0 2e-05 0.00002\n",
      "-4.0 2.0000000000000003e-06 0.00000\n",
      "0.0 0.02 0.02000\n",
      "-3.0 2e-05 0.00002\n",
      "0.0 0.02 0.02000\n",
      "-4.0 2.0000000000000003e-06 0.00000\n",
      "-1.0 0.002 0.00200\n",
      "-2.0 0.0002 0.00020\n",
      "-1.0 0.002 0.00200\n",
      "-4.0 2.0000000000000003e-06 0.00000\n",
      "-4.0 2.0000000000000003e-06 0.00000\n",
      "-3.0 2e-05 0.00002\n",
      "0.0 0.02 0.02000\n",
      "-1.0 0.002 0.00200\n",
      "-2.0 0.0002 0.00020\n",
      "-2.0 0.0002 0.00020\n",
      "-1.0 0.002 0.00200\n",
      "-2.0 0.0002 0.00020\n",
      "0.0 0.02 0.02000\n",
      "-4.0 2.0000000000000003e-06 0.00000\n",
      "-3.0 2e-05 0.00002\n",
      "0.0 0.02 0.02000\n",
      "0.0 0.02 0.02000\n",
      "-4.0 2.0000000000000003e-06 0.00000\n",
      "-3.0 2e-05 0.00002\n",
      "-2.0 0.0002 0.00020\n",
      "-1.0 0.002 0.00200\n",
      "-1.0 0.002 0.00200\n",
      "-1.0 0.002 0.00200\n",
      "-2.0 0.0002 0.00020\n",
      "-3.0 2e-05 0.00002\n",
      "-4.0 2.0000000000000003e-06 0.00000\n",
      "-3.0 2e-05 0.00002\n",
      "0.0 0.02 0.02000\n",
      "-2.0 0.0002 0.00020\n",
      "-1.0 0.002 0.00200\n",
      "-4.0 2.0000000000000003e-06 0.00000\n",
      "0.0 0.02 0.02000\n",
      "-3.0 2e-05 0.00002\n",
      "-3.0 2e-05 0.00002\n",
      "-4.0 2.0000000000000003e-06 0.00000\n",
      "-1.0 0.002 0.00200\n",
      "[0.38757478]\n",
      "0.0 0.02 0.02000\n",
      "-1.0 0.002 0.00200\n",
      "-2.0 0.0002 0.00020\n",
      "-2.0 0.0002 0.00020\n"
     ]
    },
    {
     "data": {
      "text/plain": [
       "<Figure size 1008x360 with 0 Axes>"
      ]
     },
     "metadata": {},
     "output_type": "display_data"
    }
   ],
   "source": [
    "n=0\n",
    "clobber=0\n",
    "plot=0\n",
    "\n",
    "for f in files:\n",
    "            \n",
    "\n",
    "    hdu  = fits.open(f)\n",
    "    data = hdu[0].data\n",
    "    header = hdu[0].header\n",
    "\n",
    "    # PARSE HEADER\n",
    "    logg = header['PHXLOGG']\n",
    "    teff = header['PHXTEFF']\n",
    "    feh  = header['PHXM_H']\n",
    "    iso_tmp = convert_zfeh(feh)\n",
    "    iso = '{:0.5f}'.format(iso_tmp)\n",
    "    print(feh,iso_tmp,iso)\n",
    "    outfile = templ_dir + '/dmost_lte_{:0.0f}_{}_{}_.fits'.format(teff,logg,feh)\n",
    "\n",
    "        \n",
    "    if (not os.path.isfile(outfile)) | (clobber == 1):\n",
    "\n",
    "        # NORMALIZE TO UNITY\n",
    "        data_deimos = data[mdeimos]\n",
    "        smooth = scipynd.gaussian_filter1d(data_deimos,25)\n",
    "        # REBIN TO LOG LAMBDA\n",
    "        \n",
    "        if (plot==1):\n",
    "            plt.figure(figsize=(14,5))\n",
    "            plt.plot(wave_deimos,data_deimos,alpha=0.5)\n",
    "            plt.plot(wave_deimos,smooth)\n",
    "            plt.title('{}   {}   {}'.format(logg,teff,feh))\n",
    "\n",
    "        logSpec, logLam, vscale = ppxf.log_rebin([np.min(wave_deimos),\\\n",
    "                                                    np.max(wave_deimos)],data_deimos)\n",
    "\n",
    "        print(vscale)\n",
    "        #print(outfile)\n",
    "        ttable = Table([[logLam],[logSpec],[logg],[teff],[feh],[iso],[vscale]],\\\n",
    "                         names=('wave','flux','logg','teff','feh','Z','vscale'))\n",
    "        ttable.write(outfile)\n",
    "\n",
    "    \n",
    "    "
   ]
  },
  {
   "cell_type": "code",
   "execution_count": null,
   "metadata": {},
   "outputs": [],
   "source": []
  }
 ],
 "metadata": {
  "kernelspec": {
   "display_name": "Python 3",
   "language": "python",
   "name": "python3"
  },
  "language_info": {
   "codemirror_mode": {
    "name": "ipython",
    "version": 3
   },
   "file_extension": ".py",
   "mimetype": "text/x-python",
   "name": "python",
   "nbconvert_exporter": "python",
   "pygments_lexer": "ipython3",
   "version": "3.6.7"
  }
 },
 "nbformat": 4,
 "nbformat_minor": 2
}
